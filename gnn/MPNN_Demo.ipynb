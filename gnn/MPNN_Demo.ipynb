{
 "cells": [
  {
   "cell_type": "code",
   "execution_count": 1,
   "metadata": {},
   "outputs": [],
   "source": [
    "import torch\n",
    "from torch_geometric.data import Data\n",
    "from torch_geometric.nn import radius_graph\n",
    "import torch.nn as nn\n",
    "import torch.nn.functional as F\n",
    "import torchvision\n",
    "import torchvision.transforms as transforms\n",
    "from torch_geometric.nn import MessagePassing"
   ]
  },
  {
   "cell_type": "code",
   "execution_count": 2,
   "metadata": {},
   "outputs": [
    {
     "name": "stdout",
     "output_type": "stream",
     "text": [
      "tensor([[0.],\n",
      "        [1.],\n",
      "        [2.],\n",
      "        [3.],\n",
      "        [4.],\n",
      "        [5.],\n",
      "        [6.],\n",
      "        [7.]])\n"
     ]
    }
   ],
   "source": [
    "\"\"\"\n",
    "   2 samples(graphs), each one has 4 nodes, embedding size = 1 (each graph is represented by 4 x 1 vector)\n",
    "   x_dis define the location relationship between different nodes\n",
    "   \n",
    "\"\"\"\n",
    "data = Data()\n",
    "batch_size = 2\n",
    "num_nodes = 4 \n",
    "x_dis = torch.arange(batch_size*num_nodes).view(batch_size*num_nodes,-1).float()\n",
    "print(x_dis)"
   ]
  },
  {
   "cell_type": "code",
   "execution_count": 3,
   "metadata": {},
   "outputs": [
    {
     "name": "stdout",
     "output_type": "stream",
     "text": [
      "tensor([0, 0, 0, 0, 1, 1, 1, 1])\n"
     ]
    }
   ],
   "source": [
    "\"\"\"\n",
    "   Pytorch Geometric contradicts with Pytorch tradtion in terms of input data dimension\n",
    "   For example, Pytorch follows N x C x E tradition, N:batch_size, C:channel_num, E: embedding size\n",
    "   Pytorch geometric follows (N*C) x E\n",
    "   We need addition variable \"batch\" to assign each node to the corresponding sample\n",
    "   See details (not necessary for understanding this part):\n",
    "   https://pytorch-geometric.readthedocs.io/en/latest/notes/batching.html\n",
    "\"\"\"\n",
    "batch = torch.arange(batch_size).view(-1,1).repeat(1,num_nodes).view(-1)\n",
    "print(batch)"
   ]
  },
  {
   "cell_type": "code",
   "execution_count": 4,
   "metadata": {},
   "outputs": [
    {
     "name": "stdout",
     "output_type": "stream",
     "text": [
      "tensor([[0, 1, 0, 1, 2, 1, 2, 3, 2, 3, 4, 5, 4, 5, 6, 5, 6, 7, 6, 7],\n",
      "        [0, 0, 1, 1, 1, 2, 2, 2, 3, 3, 4, 4, 5, 5, 5, 6, 6, 6, 7, 7]])\n"
     ]
    }
   ],
   "source": [
    "\"\"\"\n",
    "   radius_graph define connectivity between nodes based on designed x_dis\n",
    "   see details: https://pytorch-geometric.readthedocs.io/en/latest/modules/transforms.html#torch_geometric.transforms.RadiusGraph\n",
    "\"\"\"\n",
    "\n",
    "from torch_geometric.nn import radius_graph\n",
    "edge_index = radius_graph(x_dis, 1, batch, loop = True)\n",
    "print(edge_index)"
   ]
  },
  {
   "cell_type": "code",
   "execution_count": 5,
   "metadata": {},
   "outputs": [],
   "source": [
    "\"\"\"\n",
    "   Message Passing networks\n",
    "   For details, see: \n",
    "   https://pytorch-geometric.readthedocs.io/en/latest/notes/create_gnn.html\n",
    "   https://pytorch-geometric.readthedocs.io/en/latest/notes/sparse_tensor.html\n",
    "\n",
    "\"\"\"\n",
    "\n",
    "\n",
    "class MPNN(MessagePassing):\n",
    "    def __init__(self):\n",
    "        super(MPNN,self).__init__(aggr = 'add')\n",
    "#         self.l1 = nn.Linear(1,5)\n",
    "    \n",
    "    def forward(self, x , edge_index):\n",
    "        return self.propagate(edge_index, x = x)\n",
    "    \n",
    "    def message(self, x_j):\n",
    "        return x_j"
   ]
  },
  {
   "cell_type": "code",
   "execution_count": 6,
   "metadata": {},
   "outputs": [],
   "source": [
    "net = MPNN()"
   ]
  },
  {
   "cell_type": "code",
   "execution_count": 7,
   "metadata": {},
   "outputs": [],
   "source": [
    "x = torch.arange(8).view(-1,1) # input data\n",
    "output = net(x, edge_index)"
   ]
  },
  {
   "cell_type": "code",
   "execution_count": 8,
   "metadata": {},
   "outputs": [
    {
     "name": "stdout",
     "output_type": "stream",
     "text": [
      "tensor([[0],\n",
      "        [1],\n",
      "        [2],\n",
      "        [3],\n",
      "        [4],\n",
      "        [5],\n",
      "        [6],\n",
      "        [7]])\n"
     ]
    }
   ],
   "source": [
    "print(x)"
   ]
  },
  {
   "cell_type": "code",
   "execution_count": 9,
   "metadata": {},
   "outputs": [
    {
     "name": "stdout",
     "output_type": "stream",
     "text": [
      "tensor([[ 1],\n",
      "        [ 3],\n",
      "        [ 6],\n",
      "        [ 5],\n",
      "        [ 9],\n",
      "        [15],\n",
      "        [18],\n",
      "        [13]])\n"
     ]
    }
   ],
   "source": [
    "print(output)"
   ]
  },
  {
   "cell_type": "code",
   "execution_count": null,
   "metadata": {},
   "outputs": [],
   "source": []
  }
 ],
 "metadata": {
  "kernelspec": {
   "display_name": "Python [conda env:.conda-shushu]",
   "language": "python",
   "name": "conda-env-.conda-shushu-py"
  },
  "language_info": {
   "codemirror_mode": {
    "name": "ipython",
    "version": 3
   },
   "file_extension": ".py",
   "mimetype": "text/x-python",
   "name": "python",
   "nbconvert_exporter": "python",
   "pygments_lexer": "ipython3",
   "version": "3.8.5"
  }
 },
 "nbformat": 4,
 "nbformat_minor": 4
}
